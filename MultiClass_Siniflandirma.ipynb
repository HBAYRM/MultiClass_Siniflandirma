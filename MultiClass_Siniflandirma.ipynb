{
  "nbformat": 4,
  "nbformat_minor": 0,
  "metadata": {
    "colab": {
      "provenance": []
    },
    "kernelspec": {
      "name": "python3",
      "display_name": "Python 3"
    },
    "language_info": {
      "name": "python"
    }
  },
  "cells": [
    {
      "cell_type": "markdown",
      "source": [
        "# CLASSIFICATION(**SINIFLANDIRMA**)"
      ],
      "metadata": {
        "id": "wWfp_7i4iv3C"
      }
    },
    {
      "cell_type": "code",
      "source": [
        "import pandas as pd\n",
        "import numpy as np"
      ],
      "metadata": {
        "id": "2bKMN3vKiuMR"
      },
      "execution_count": 83,
      "outputs": []
    },
    {
      "cell_type": "code",
      "source": [
        "#verilerin yüklenmesi\n",
        "veriler=pd.read_csv(\"/content/myinsurance.csv\")\n",
        "veriler"
      ],
      "metadata": {
        "colab": {
          "base_uri": "https://localhost:8080/",
          "height": 423
        },
        "id": "dhFwWQv2i8Ez",
        "outputId": "4c08340c-7436-4fe3-e828-ddf5b9dde07e"
      },
      "execution_count": 125,
      "outputs": [
        {
          "output_type": "execute_result",
          "data": {
            "text/plain": [
              "      age     sex     bmi  children smoker     region      charges\n",
              "0      19  female  27.900         0    yes  southwest  16884.92400\n",
              "1      18    male  33.770         1     no  southeast   1725.55230\n",
              "2      28    male  33.000         3     no  southeast   4449.46200\n",
              "3      33    male  22.705         0     no  northwest  21984.47061\n",
              "4      32    male  28.880         0     no  northwest   3866.85520\n",
              "...   ...     ...     ...       ...    ...        ...          ...\n",
              "1333   50    male  30.970         3     no  northwest  10600.54830\n",
              "1334   18  female  31.920         0     no  northeast   2205.98080\n",
              "1335   18  female  36.850         0     no  southeast   1629.83350\n",
              "1336   21  female  25.800         0     no  southwest   2007.94500\n",
              "1337   61  female  29.070         0    yes  northwest  29141.36030\n",
              "\n",
              "[1338 rows x 7 columns]"
            ],
            "text/html": [
              "\n",
              "  <div id=\"df-84b0c3eb-4bc4-49dc-8d52-56261914fdc2\">\n",
              "    <div class=\"colab-df-container\">\n",
              "      <div>\n",
              "<style scoped>\n",
              "    .dataframe tbody tr th:only-of-type {\n",
              "        vertical-align: middle;\n",
              "    }\n",
              "\n",
              "    .dataframe tbody tr th {\n",
              "        vertical-align: top;\n",
              "    }\n",
              "\n",
              "    .dataframe thead th {\n",
              "        text-align: right;\n",
              "    }\n",
              "</style>\n",
              "<table border=\"1\" class=\"dataframe\">\n",
              "  <thead>\n",
              "    <tr style=\"text-align: right;\">\n",
              "      <th></th>\n",
              "      <th>age</th>\n",
              "      <th>sex</th>\n",
              "      <th>bmi</th>\n",
              "      <th>children</th>\n",
              "      <th>smoker</th>\n",
              "      <th>region</th>\n",
              "      <th>charges</th>\n",
              "    </tr>\n",
              "  </thead>\n",
              "  <tbody>\n",
              "    <tr>\n",
              "      <th>0</th>\n",
              "      <td>19</td>\n",
              "      <td>female</td>\n",
              "      <td>27.900</td>\n",
              "      <td>0</td>\n",
              "      <td>yes</td>\n",
              "      <td>southwest</td>\n",
              "      <td>16884.92400</td>\n",
              "    </tr>\n",
              "    <tr>\n",
              "      <th>1</th>\n",
              "      <td>18</td>\n",
              "      <td>male</td>\n",
              "      <td>33.770</td>\n",
              "      <td>1</td>\n",
              "      <td>no</td>\n",
              "      <td>southeast</td>\n",
              "      <td>1725.55230</td>\n",
              "    </tr>\n",
              "    <tr>\n",
              "      <th>2</th>\n",
              "      <td>28</td>\n",
              "      <td>male</td>\n",
              "      <td>33.000</td>\n",
              "      <td>3</td>\n",
              "      <td>no</td>\n",
              "      <td>southeast</td>\n",
              "      <td>4449.46200</td>\n",
              "    </tr>\n",
              "    <tr>\n",
              "      <th>3</th>\n",
              "      <td>33</td>\n",
              "      <td>male</td>\n",
              "      <td>22.705</td>\n",
              "      <td>0</td>\n",
              "      <td>no</td>\n",
              "      <td>northwest</td>\n",
              "      <td>21984.47061</td>\n",
              "    </tr>\n",
              "    <tr>\n",
              "      <th>4</th>\n",
              "      <td>32</td>\n",
              "      <td>male</td>\n",
              "      <td>28.880</td>\n",
              "      <td>0</td>\n",
              "      <td>no</td>\n",
              "      <td>northwest</td>\n",
              "      <td>3866.85520</td>\n",
              "    </tr>\n",
              "    <tr>\n",
              "      <th>...</th>\n",
              "      <td>...</td>\n",
              "      <td>...</td>\n",
              "      <td>...</td>\n",
              "      <td>...</td>\n",
              "      <td>...</td>\n",
              "      <td>...</td>\n",
              "      <td>...</td>\n",
              "    </tr>\n",
              "    <tr>\n",
              "      <th>1333</th>\n",
              "      <td>50</td>\n",
              "      <td>male</td>\n",
              "      <td>30.970</td>\n",
              "      <td>3</td>\n",
              "      <td>no</td>\n",
              "      <td>northwest</td>\n",
              "      <td>10600.54830</td>\n",
              "    </tr>\n",
              "    <tr>\n",
              "      <th>1334</th>\n",
              "      <td>18</td>\n",
              "      <td>female</td>\n",
              "      <td>31.920</td>\n",
              "      <td>0</td>\n",
              "      <td>no</td>\n",
              "      <td>northeast</td>\n",
              "      <td>2205.98080</td>\n",
              "    </tr>\n",
              "    <tr>\n",
              "      <th>1335</th>\n",
              "      <td>18</td>\n",
              "      <td>female</td>\n",
              "      <td>36.850</td>\n",
              "      <td>0</td>\n",
              "      <td>no</td>\n",
              "      <td>southeast</td>\n",
              "      <td>1629.83350</td>\n",
              "    </tr>\n",
              "    <tr>\n",
              "      <th>1336</th>\n",
              "      <td>21</td>\n",
              "      <td>female</td>\n",
              "      <td>25.800</td>\n",
              "      <td>0</td>\n",
              "      <td>no</td>\n",
              "      <td>southwest</td>\n",
              "      <td>2007.94500</td>\n",
              "    </tr>\n",
              "    <tr>\n",
              "      <th>1337</th>\n",
              "      <td>61</td>\n",
              "      <td>female</td>\n",
              "      <td>29.070</td>\n",
              "      <td>0</td>\n",
              "      <td>yes</td>\n",
              "      <td>northwest</td>\n",
              "      <td>29141.36030</td>\n",
              "    </tr>\n",
              "  </tbody>\n",
              "</table>\n",
              "<p>1338 rows × 7 columns</p>\n",
              "</div>\n",
              "      <button class=\"colab-df-convert\" onclick=\"convertToInteractive('df-84b0c3eb-4bc4-49dc-8d52-56261914fdc2')\"\n",
              "              title=\"Convert this dataframe to an interactive table.\"\n",
              "              style=\"display:none;\">\n",
              "        \n",
              "  <svg xmlns=\"http://www.w3.org/2000/svg\" height=\"24px\"viewBox=\"0 0 24 24\"\n",
              "       width=\"24px\">\n",
              "    <path d=\"M0 0h24v24H0V0z\" fill=\"none\"/>\n",
              "    <path d=\"M18.56 5.44l.94 2.06.94-2.06 2.06-.94-2.06-.94-.94-2.06-.94 2.06-2.06.94zm-11 1L8.5 8.5l.94-2.06 2.06-.94-2.06-.94L8.5 2.5l-.94 2.06-2.06.94zm10 10l.94 2.06.94-2.06 2.06-.94-2.06-.94-.94-2.06-.94 2.06-2.06.94z\"/><path d=\"M17.41 7.96l-1.37-1.37c-.4-.4-.92-.59-1.43-.59-.52 0-1.04.2-1.43.59L10.3 9.45l-7.72 7.72c-.78.78-.78 2.05 0 2.83L4 21.41c.39.39.9.59 1.41.59.51 0 1.02-.2 1.41-.59l7.78-7.78 2.81-2.81c.8-.78.8-2.07 0-2.86zM5.41 20L4 18.59l7.72-7.72 1.47 1.35L5.41 20z\"/>\n",
              "  </svg>\n",
              "      </button>\n",
              "      \n",
              "  <style>\n",
              "    .colab-df-container {\n",
              "      display:flex;\n",
              "      flex-wrap:wrap;\n",
              "      gap: 12px;\n",
              "    }\n",
              "\n",
              "    .colab-df-convert {\n",
              "      background-color: #E8F0FE;\n",
              "      border: none;\n",
              "      border-radius: 50%;\n",
              "      cursor: pointer;\n",
              "      display: none;\n",
              "      fill: #1967D2;\n",
              "      height: 32px;\n",
              "      padding: 0 0 0 0;\n",
              "      width: 32px;\n",
              "    }\n",
              "\n",
              "    .colab-df-convert:hover {\n",
              "      background-color: #E2EBFA;\n",
              "      box-shadow: 0px 1px 2px rgba(60, 64, 67, 0.3), 0px 1px 3px 1px rgba(60, 64, 67, 0.15);\n",
              "      fill: #174EA6;\n",
              "    }\n",
              "\n",
              "    [theme=dark] .colab-df-convert {\n",
              "      background-color: #3B4455;\n",
              "      fill: #D2E3FC;\n",
              "    }\n",
              "\n",
              "    [theme=dark] .colab-df-convert:hover {\n",
              "      background-color: #434B5C;\n",
              "      box-shadow: 0px 1px 3px 1px rgba(0, 0, 0, 0.15);\n",
              "      filter: drop-shadow(0px 1px 2px rgba(0, 0, 0, 0.3));\n",
              "      fill: #FFFFFF;\n",
              "    }\n",
              "  </style>\n",
              "\n",
              "      <script>\n",
              "        const buttonEl =\n",
              "          document.querySelector('#df-84b0c3eb-4bc4-49dc-8d52-56261914fdc2 button.colab-df-convert');\n",
              "        buttonEl.style.display =\n",
              "          google.colab.kernel.accessAllowed ? 'block' : 'none';\n",
              "\n",
              "        async function convertToInteractive(key) {\n",
              "          const element = document.querySelector('#df-84b0c3eb-4bc4-49dc-8d52-56261914fdc2');\n",
              "          const dataTable =\n",
              "            await google.colab.kernel.invokeFunction('convertToInteractive',\n",
              "                                                     [key], {});\n",
              "          if (!dataTable) return;\n",
              "\n",
              "          const docLinkHtml = 'Like what you see? Visit the ' +\n",
              "            '<a target=\"_blank\" href=https://colab.research.google.com/notebooks/data_table.ipynb>data table notebook</a>'\n",
              "            + ' to learn more about interactive tables.';\n",
              "          element.innerHTML = '';\n",
              "          dataTable['output_type'] = 'display_data';\n",
              "          await google.colab.output.renderOutput(dataTable, element);\n",
              "          const docLink = document.createElement('div');\n",
              "          docLink.innerHTML = docLinkHtml;\n",
              "          element.appendChild(docLink);\n",
              "        }\n",
              "      </script>\n",
              "    </div>\n",
              "  </div>\n",
              "  "
            ]
          },
          "metadata": {},
          "execution_count": 125
        }
      ]
    },
    {
      "cell_type": "code",
      "source": [
        "# \"sütun_adı\" sütununda kaç farklı eleman olduğunu bulun\n",
        "farkli_eleman_sayisi = veriler[\"region\"].nunique()\n",
        "\n",
        "# Sonucu yazdırın\n",
        "print(\"Sütunda\", farkli_eleman_sayisi, \"farklı eleman bulunmaktadır.\")"
      ],
      "metadata": {
        "colab": {
          "base_uri": "https://localhost:8080/"
        },
        "id": "zVfVhed-jdaE",
        "outputId": "d7bddd10-e2ac-405d-e2ba-8e214db8bb3d"
      },
      "execution_count": 126,
      "outputs": [
        {
          "output_type": "stream",
          "name": "stdout",
          "text": [
            "Sütunda 4 farklı eleman bulunmaktadır.\n"
          ]
        }
      ]
    },
    {
      "cell_type": "code",
      "source": [
        "#KORELASYON İLİŞKİLERİ\n",
        "corr_matrix = veriler.corr()\n",
        "def en_yuksek_iliskiler(corr_matrix):\n",
        "    # Korelasyon matrisini sütunlara göre sıralama\n",
        "    sorted_corr = corr_matrix.unstack().sort_values(ascending=False)\n",
        "\n",
        "    # Sıralanmış korelasyon değerlerinin en yüksek olduğu sütun ikililerini yazdırma\n",
        "    for i, (s1, s2) in enumerate(sorted_corr.index):\n",
        "        if s1 != s2:  # Aynı sütun ikilisini tekrarlamamak için\n",
        "            print(f\"{s1}-{s2}: {sorted_corr[i]}\")\n",
        "\n",
        "# Örnek kullanım\n",
        "en_yuksek_iliskiler(corr_matrix)"
      ],
      "metadata": {
        "colab": {
          "base_uri": "https://localhost:8080/"
        },
        "id": "kQQC5r2bk9Gx",
        "outputId": "b9fedef2-c51b-4a08-fb2b-1ae0e91e37e3"
      },
      "execution_count": 127,
      "outputs": [
        {
          "output_type": "stream",
          "name": "stdout",
          "text": [
            "age-charges: 0.299008193330648\n",
            "charges-age: 0.299008193330648\n",
            "bmi-charges: 0.19834096883362912\n",
            "charges-bmi: 0.19834096883362912\n",
            "age-bmi: 0.1092718815485351\n",
            "bmi-age: 0.1092718815485351\n",
            "children-charges: 0.06799822684790495\n",
            "charges-children: 0.06799822684790495\n",
            "age-children: 0.04246899855884958\n",
            "children-age: 0.04246899855884958\n",
            "bmi-children: 0.012758900820673994\n",
            "children-bmi: 0.012758900820673994\n"
          ]
        },
        {
          "output_type": "stream",
          "name": "stderr",
          "text": [
            "<ipython-input-127-b4fccfc7c866>:2: FutureWarning: The default value of numeric_only in DataFrame.corr is deprecated. In a future version, it will default to False. Select only valid columns or specify the value of numeric_only to silence this warning.\n",
            "  corr_matrix = veriler.corr()\n"
          ]
        }
      ]
    },
    {
      "cell_type": "code",
      "source": [
        "import pandas as pd\n",
        "from sklearn.preprocessing import OneHotEncoder\n",
        "from sklearn.preprocessing import MinMaxScaler\n",
        "\n",
        "def one_hot_encode(data, columns):\n",
        "    # Kategorik sütunları seçme\n",
        "    categorical_data = data[columns]\n",
        "\n",
        "    # One-Hot Encoder oluşturma\n",
        "    encoder = OneHotEncoder(sparse=False, drop='first')\n",
        "\n",
        "    # Kategorik veriyi dönüştürme\n",
        "    encoded_data = encoder.fit_transform(categorical_data)\n",
        "\n",
        "    # One-Hot Encoding sonucunu DataFrame'e dönüştürme\n",
        "    encoded_df = pd.DataFrame(encoded_data, columns=encoder.get_feature_names_out(columns))\n",
        "\n",
        "    # Dönüştürülmüş veriyi orijinal veriyle birleştirme\n",
        "    preprocessed_data = pd.concat([data.drop(columns, axis=1), encoded_df], axis=1)\n",
        "\n",
        "    return preprocessed_data\n",
        "\n",
        "\n",
        "\n",
        "\n",
        "def min_max_scale(data, column):\n",
        "    # Min-Max Scaler oluşturma\n",
        "    scaler = MinMaxScaler()\n",
        "\n",
        "    # Sütunu seçme ve ölçeklendirme\n",
        "    scaled_column = scaler.fit_transform(data[[column]])\n",
        "\n",
        "    # Ölçeklendirilmiş sütunu yeni bir DataFrame'e dönüştürme\n",
        "    scaled_data = pd.DataFrame(scaled_column, columns=[column])\n",
        "\n",
        "    # Ölçeklendirilmiş sütunu orijinal veri setine ekleme\n",
        "    data[column] = scaled_data[column]\n",
        "\n",
        "    return data\n",
        "\n",
        "\n",
        "def fill_nan_with_mean(data):\n",
        "    for column in data.columns:\n",
        "        if data[column].isnull().any():\n",
        "            mean = data[column].mean()\n",
        "            data[column].fillna(mean, inplace=True)\n",
        "    return data\n",
        "\n",
        "\n",
        "def veriOnIsleme(data, columnsForOneHotEncoder, columnsForMinMaxScaler):\n",
        "    dataForOneHot = one_hot_encode(data, columnsForOneHotEncoder)\n",
        "    for column in columnsForMinMaxScaler:\n",
        "        dataForOneHot = min_max_scale(dataForOneHot, column)  # Düzeltme: dataForOneHot kullanılmalı\n",
        "    result = fill_nan_with_mean(dataForOneHot)\n",
        "    return result"
      ],
      "metadata": {
        "id": "ll7xjtFNiqkR"
      },
      "execution_count": 86,
      "outputs": []
    },
    {
      "cell_type": "code",
      "source": [
        "veriSetim=pd.read_csv(\"/content/myinsurance.csv\")\n",
        "veriOnİslemeliSetDuzelt=veriOnIsleme(veriSetim, [\"smoker\"], [\"age\",\"bmi\",\"children\",\"charges\"])\n",
        "#veriOnİslemeliSetDuzelt=veriOnİslemeliSetDuzelt.drop([\"RowNumber\",\"CustomerId\",\"Surname\", \"Geography\", \"Gender\"], axis=1)\n",
        "\n",
        "MyX = veriOnİslemeliSetDuzelt.drop([\"region\",\"sex\"],axis=1)\n",
        "MyY = veriOnİslemeliSetDuzelt[\"region\"]\n",
        "\n",
        "#BURADA Y DEĞERLERİ YES/NO ŞEKLİNDE OLDUĞU İÇİN 1/0  yada 0-1-2 ŞEKLİNE ÇEVİRDİM\n",
        "from sklearn.preprocessing import LabelEncoder\n",
        "# Encode target variable\n",
        "le = LabelEncoder()\n",
        "MyY = le.fit_transform(MyY)\n"
      ],
      "metadata": {
        "colab": {
          "base_uri": "https://localhost:8080/"
        },
        "id": "VyHVPBT8iqmd",
        "outputId": "e75516c5-4c26-49d3-c4a6-79a1c8d2b679"
      },
      "execution_count": 143,
      "outputs": [
        {
          "output_type": "stream",
          "name": "stderr",
          "text": [
            "/usr/local/lib/python3.10/dist-packages/sklearn/preprocessing/_encoders.py:868: FutureWarning: `sparse` was renamed to `sparse_output` in version 1.2 and will be removed in 1.4. `sparse_output` is ignored unless you leave `sparse` to its default value.\n",
            "  warnings.warn(\n"
          ]
        }
      ]
    },
    {
      "cell_type": "code",
      "source": [
        "#Geriye Eleme Yöntemi\n",
        "\n",
        "import statsmodels.api as sm\n",
        "import pandas as pd\n",
        "\n",
        "def backward_elimination(X, y, significance_level=0.05):\n",
        "    model = sm.OLS(y, X).fit()\n",
        "    print(model.summary())\n",
        "    return model.summary()"
      ],
      "metadata": {
        "id": "SpXbAkmypxL-"
      },
      "execution_count": 144,
      "outputs": []
    },
    {
      "cell_type": "code",
      "source": [
        "# Fonksiyonu çağırma (hedef sütun adı \"target\" olarak varsayılmıştır)\n",
        "summary = backward_elimination(MyX, MyY)"
      ],
      "metadata": {
        "colab": {
          "base_uri": "https://localhost:8080/"
        },
        "id": "oXV8QBbqpti6",
        "outputId": "75c37936-a1a5-4834-ffe0-fbd70dc2cd49"
      },
      "execution_count": 145,
      "outputs": [
        {
          "output_type": "stream",
          "name": "stdout",
          "text": [
            "                                 OLS Regression Results                                \n",
            "=======================================================================================\n",
            "Dep. Variable:                      y   R-squared (uncentered):                   0.630\n",
            "Model:                            OLS   Adj. R-squared (uncentered):              0.629\n",
            "Method:                 Least Squares   F-statistic:                              453.8\n",
            "Date:                Fri, 07 Jul 2023   Prob (F-statistic):                   1.16e-284\n",
            "Time:                        14:08:37   Log-Likelihood:                         -2074.9\n",
            "No. Observations:                1338   AIC:                                      4160.\n",
            "Df Residuals:                    1333   BIC:                                      4186.\n",
            "Df Model:                           5                                                  \n",
            "Covariance Type:            nonrobust                                                  \n",
            "==============================================================================\n",
            "                 coef    std err          t      P>|t|      [0.025      0.975]\n",
            "------------------------------------------------------------------------------\n",
            "age            0.6485      0.108      6.005      0.000       0.437       0.860\n",
            "bmi            2.8534      0.134     21.235      0.000       2.590       3.117\n",
            "children       0.4977      0.125      3.978      0.000       0.252       0.743\n",
            "charges       -1.3663      0.318     -4.300      0.000      -1.990      -0.743\n",
            "smoker_yes     0.6533      0.141      4.639      0.000       0.377       0.930\n",
            "==============================================================================\n",
            "Omnibus:                      103.621   Durbin-Watson:                   2.032\n",
            "Prob(Omnibus):                  0.000   Jarque-Bera (JB):               36.286\n",
            "Skew:                           0.097   Prob(JB):                     1.32e-08\n",
            "Kurtosis:                       2.217   Cond. No.                         8.55\n",
            "==============================================================================\n",
            "\n",
            "Notes:\n",
            "[1] R² is computed without centering (uncentered) since the model does not contain a constant.\n",
            "[2] Standard Errors assume that the covariance matrix of the errors is correctly specified.\n"
          ]
        }
      ]
    },
    {
      "cell_type": "code",
      "source": [
        "MyX"
      ],
      "metadata": {
        "colab": {
          "base_uri": "https://localhost:8080/",
          "height": 423
        },
        "id": "cqlTE3EUiqqh",
        "outputId": "a67be331-8533-4fc9-b6d7-3f053a296f5b"
      },
      "execution_count": 88,
      "outputs": [
        {
          "output_type": "execute_result",
          "data": {
            "text/plain": [
              "           age       bmi  children   charges  sex_male  smoker_yes\n",
              "0     0.021739  0.321227       0.0  0.251611       0.0         1.0\n",
              "1     0.000000  0.479150       0.2  0.009636       1.0         0.0\n",
              "2     0.217391  0.458434       0.6  0.053115       1.0         0.0\n",
              "3     0.326087  0.181464       0.0  0.333010       1.0         0.0\n",
              "4     0.304348  0.347592       0.0  0.043816       1.0         0.0\n",
              "...        ...       ...       ...       ...       ...         ...\n",
              "1333  0.695652  0.403820       0.6  0.151299       1.0         0.0\n",
              "1334  0.000000  0.429379       0.0  0.017305       0.0         0.0\n",
              "1335  0.000000  0.562012       0.0  0.008108       0.0         0.0\n",
              "1336  0.065217  0.264730       0.0  0.014144       0.0         0.0\n",
              "1337  0.934783  0.352704       0.0  0.447249       0.0         1.0\n",
              "\n",
              "[1338 rows x 6 columns]"
            ],
            "text/html": [
              "\n",
              "  <div id=\"df-b9fae724-c36d-47f0-82d7-6ae9829357ab\">\n",
              "    <div class=\"colab-df-container\">\n",
              "      <div>\n",
              "<style scoped>\n",
              "    .dataframe tbody tr th:only-of-type {\n",
              "        vertical-align: middle;\n",
              "    }\n",
              "\n",
              "    .dataframe tbody tr th {\n",
              "        vertical-align: top;\n",
              "    }\n",
              "\n",
              "    .dataframe thead th {\n",
              "        text-align: right;\n",
              "    }\n",
              "</style>\n",
              "<table border=\"1\" class=\"dataframe\">\n",
              "  <thead>\n",
              "    <tr style=\"text-align: right;\">\n",
              "      <th></th>\n",
              "      <th>age</th>\n",
              "      <th>bmi</th>\n",
              "      <th>children</th>\n",
              "      <th>charges</th>\n",
              "      <th>sex_male</th>\n",
              "      <th>smoker_yes</th>\n",
              "    </tr>\n",
              "  </thead>\n",
              "  <tbody>\n",
              "    <tr>\n",
              "      <th>0</th>\n",
              "      <td>0.021739</td>\n",
              "      <td>0.321227</td>\n",
              "      <td>0.0</td>\n",
              "      <td>0.251611</td>\n",
              "      <td>0.0</td>\n",
              "      <td>1.0</td>\n",
              "    </tr>\n",
              "    <tr>\n",
              "      <th>1</th>\n",
              "      <td>0.000000</td>\n",
              "      <td>0.479150</td>\n",
              "      <td>0.2</td>\n",
              "      <td>0.009636</td>\n",
              "      <td>1.0</td>\n",
              "      <td>0.0</td>\n",
              "    </tr>\n",
              "    <tr>\n",
              "      <th>2</th>\n",
              "      <td>0.217391</td>\n",
              "      <td>0.458434</td>\n",
              "      <td>0.6</td>\n",
              "      <td>0.053115</td>\n",
              "      <td>1.0</td>\n",
              "      <td>0.0</td>\n",
              "    </tr>\n",
              "    <tr>\n",
              "      <th>3</th>\n",
              "      <td>0.326087</td>\n",
              "      <td>0.181464</td>\n",
              "      <td>0.0</td>\n",
              "      <td>0.333010</td>\n",
              "      <td>1.0</td>\n",
              "      <td>0.0</td>\n",
              "    </tr>\n",
              "    <tr>\n",
              "      <th>4</th>\n",
              "      <td>0.304348</td>\n",
              "      <td>0.347592</td>\n",
              "      <td>0.0</td>\n",
              "      <td>0.043816</td>\n",
              "      <td>1.0</td>\n",
              "      <td>0.0</td>\n",
              "    </tr>\n",
              "    <tr>\n",
              "      <th>...</th>\n",
              "      <td>...</td>\n",
              "      <td>...</td>\n",
              "      <td>...</td>\n",
              "      <td>...</td>\n",
              "      <td>...</td>\n",
              "      <td>...</td>\n",
              "    </tr>\n",
              "    <tr>\n",
              "      <th>1333</th>\n",
              "      <td>0.695652</td>\n",
              "      <td>0.403820</td>\n",
              "      <td>0.6</td>\n",
              "      <td>0.151299</td>\n",
              "      <td>1.0</td>\n",
              "      <td>0.0</td>\n",
              "    </tr>\n",
              "    <tr>\n",
              "      <th>1334</th>\n",
              "      <td>0.000000</td>\n",
              "      <td>0.429379</td>\n",
              "      <td>0.0</td>\n",
              "      <td>0.017305</td>\n",
              "      <td>0.0</td>\n",
              "      <td>0.0</td>\n",
              "    </tr>\n",
              "    <tr>\n",
              "      <th>1335</th>\n",
              "      <td>0.000000</td>\n",
              "      <td>0.562012</td>\n",
              "      <td>0.0</td>\n",
              "      <td>0.008108</td>\n",
              "      <td>0.0</td>\n",
              "      <td>0.0</td>\n",
              "    </tr>\n",
              "    <tr>\n",
              "      <th>1336</th>\n",
              "      <td>0.065217</td>\n",
              "      <td>0.264730</td>\n",
              "      <td>0.0</td>\n",
              "      <td>0.014144</td>\n",
              "      <td>0.0</td>\n",
              "      <td>0.0</td>\n",
              "    </tr>\n",
              "    <tr>\n",
              "      <th>1337</th>\n",
              "      <td>0.934783</td>\n",
              "      <td>0.352704</td>\n",
              "      <td>0.0</td>\n",
              "      <td>0.447249</td>\n",
              "      <td>0.0</td>\n",
              "      <td>1.0</td>\n",
              "    </tr>\n",
              "  </tbody>\n",
              "</table>\n",
              "<p>1338 rows × 6 columns</p>\n",
              "</div>\n",
              "      <button class=\"colab-df-convert\" onclick=\"convertToInteractive('df-b9fae724-c36d-47f0-82d7-6ae9829357ab')\"\n",
              "              title=\"Convert this dataframe to an interactive table.\"\n",
              "              style=\"display:none;\">\n",
              "        \n",
              "  <svg xmlns=\"http://www.w3.org/2000/svg\" height=\"24px\"viewBox=\"0 0 24 24\"\n",
              "       width=\"24px\">\n",
              "    <path d=\"M0 0h24v24H0V0z\" fill=\"none\"/>\n",
              "    <path d=\"M18.56 5.44l.94 2.06.94-2.06 2.06-.94-2.06-.94-.94-2.06-.94 2.06-2.06.94zm-11 1L8.5 8.5l.94-2.06 2.06-.94-2.06-.94L8.5 2.5l-.94 2.06-2.06.94zm10 10l.94 2.06.94-2.06 2.06-.94-2.06-.94-.94-2.06-.94 2.06-2.06.94z\"/><path d=\"M17.41 7.96l-1.37-1.37c-.4-.4-.92-.59-1.43-.59-.52 0-1.04.2-1.43.59L10.3 9.45l-7.72 7.72c-.78.78-.78 2.05 0 2.83L4 21.41c.39.39.9.59 1.41.59.51 0 1.02-.2 1.41-.59l7.78-7.78 2.81-2.81c.8-.78.8-2.07 0-2.86zM5.41 20L4 18.59l7.72-7.72 1.47 1.35L5.41 20z\"/>\n",
              "  </svg>\n",
              "      </button>\n",
              "      \n",
              "  <style>\n",
              "    .colab-df-container {\n",
              "      display:flex;\n",
              "      flex-wrap:wrap;\n",
              "      gap: 12px;\n",
              "    }\n",
              "\n",
              "    .colab-df-convert {\n",
              "      background-color: #E8F0FE;\n",
              "      border: none;\n",
              "      border-radius: 50%;\n",
              "      cursor: pointer;\n",
              "      display: none;\n",
              "      fill: #1967D2;\n",
              "      height: 32px;\n",
              "      padding: 0 0 0 0;\n",
              "      width: 32px;\n",
              "    }\n",
              "\n",
              "    .colab-df-convert:hover {\n",
              "      background-color: #E2EBFA;\n",
              "      box-shadow: 0px 1px 2px rgba(60, 64, 67, 0.3), 0px 1px 3px 1px rgba(60, 64, 67, 0.15);\n",
              "      fill: #174EA6;\n",
              "    }\n",
              "\n",
              "    [theme=dark] .colab-df-convert {\n",
              "      background-color: #3B4455;\n",
              "      fill: #D2E3FC;\n",
              "    }\n",
              "\n",
              "    [theme=dark] .colab-df-convert:hover {\n",
              "      background-color: #434B5C;\n",
              "      box-shadow: 0px 1px 3px 1px rgba(0, 0, 0, 0.15);\n",
              "      filter: drop-shadow(0px 1px 2px rgba(0, 0, 0, 0.3));\n",
              "      fill: #FFFFFF;\n",
              "    }\n",
              "  </style>\n",
              "\n",
              "      <script>\n",
              "        const buttonEl =\n",
              "          document.querySelector('#df-b9fae724-c36d-47f0-82d7-6ae9829357ab button.colab-df-convert');\n",
              "        buttonEl.style.display =\n",
              "          google.colab.kernel.accessAllowed ? 'block' : 'none';\n",
              "\n",
              "        async function convertToInteractive(key) {\n",
              "          const element = document.querySelector('#df-b9fae724-c36d-47f0-82d7-6ae9829357ab');\n",
              "          const dataTable =\n",
              "            await google.colab.kernel.invokeFunction('convertToInteractive',\n",
              "                                                     [key], {});\n",
              "          if (!dataTable) return;\n",
              "\n",
              "          const docLinkHtml = 'Like what you see? Visit the ' +\n",
              "            '<a target=\"_blank\" href=https://colab.research.google.com/notebooks/data_table.ipynb>data table notebook</a>'\n",
              "            + ' to learn more about interactive tables.';\n",
              "          element.innerHTML = '';\n",
              "          dataTable['output_type'] = 'display_data';\n",
              "          await google.colab.output.renderOutput(dataTable, element);\n",
              "          const docLink = document.createElement('div');\n",
              "          docLink.innerHTML = docLinkHtml;\n",
              "          element.appendChild(docLink);\n",
              "        }\n",
              "      </script>\n",
              "    </div>\n",
              "  </div>\n",
              "  "
            ]
          },
          "metadata": {},
          "execution_count": 88
        }
      ]
    },
    {
      "cell_type": "code",
      "source": [
        "MyY"
      ],
      "metadata": {
        "colab": {
          "base_uri": "https://localhost:8080/"
        },
        "id": "auE2p2DFiqs5",
        "outputId": "7963050f-de80-4aac-8cae-4b68efc7d01e"
      },
      "execution_count": 89,
      "outputs": [
        {
          "output_type": "execute_result",
          "data": {
            "text/plain": [
              "array([3, 2, 2, ..., 2, 3, 1])"
            ]
          },
          "metadata": {},
          "execution_count": 89
        }
      ]
    },
    {
      "cell_type": "code",
      "source": [
        "def parcalamaIslemi(A,B):\n",
        "  from sklearn.model_selection import train_test_split\n",
        "  X_train, X_test, Y_train, Y_test = train_test_split(A, B,test_size=0.2,random_state=42)\n",
        "  return X_train, X_test, Y_train, Y_test"
      ],
      "metadata": {
        "id": "Aohrwe8jiqvE"
      },
      "execution_count": 90,
      "outputs": []
    },
    {
      "cell_type": "code",
      "source": [
        "MyX_train, MyX_test, MyY_train, MyY_test=parcalamaIslemi(MyX, MyY)"
      ],
      "metadata": {
        "id": "JPPTAg1Miqxs"
      },
      "execution_count": 91,
      "outputs": []
    },
    {
      "cell_type": "markdown",
      "source": [
        "Logistic **Regression**"
      ],
      "metadata": {
        "id": "czhHmsjolWjI"
      }
    },
    {
      "cell_type": "code",
      "source": [
        "#BURADA Y DEĞERLERİ YES/NO ŞEKLİNDE OLDUĞU İÇİN 1/0 ŞEKLİNE ÇEVİRDİM\n",
        "#from sklearn.preprocessing import LabelEncoder\n",
        "# Encode target variable\n",
        "#le = LabelEncoder()\n",
        "#MyY_train_encoded = le.fit_transform(MyY_train)\n",
        "#MyY_test_encoded = le.transform(MyY_test)\n",
        "#MyY_train=MyY_train_encoded\n",
        "#MyY_test=MyY_test_encoded"
      ],
      "metadata": {
        "id": "E3XlV_Dwm_fp"
      },
      "execution_count": 92,
      "outputs": []
    },
    {
      "cell_type": "code",
      "source": [
        "#Lojistik Regresyon\n",
        "from sklearn.metrics import confusion_matrix\n",
        "from sklearn.linear_model import LogisticRegression\n",
        "logr=LogisticRegression(random_state=(42))\n",
        "logr.fit(MyX_train, MyY_train)\n",
        "y_predLogistic=logr.predict(MyX_test)\n",
        "cm=confusion_matrix(MyY_test,y_predLogistic)\n",
        "print(\"Logistic R. confısuon matrix\")\n",
        "print(cm)"
      ],
      "metadata": {
        "id": "GQQVp1MSkJTb",
        "colab": {
          "base_uri": "https://localhost:8080/"
        },
        "outputId": "3d7dfe28-3b64-469a-8b93-58269eb623f1"
      },
      "execution_count": 93,
      "outputs": [
        {
          "output_type": "stream",
          "name": "stdout",
          "text": [
            "Logistic R. confısuon matrix\n",
            "[[22  7 21  7]\n",
            " [34  8 23  4]\n",
            " [12  6 55  8]\n",
            " [19  7 27  8]]\n"
          ]
        }
      ]
    },
    {
      "cell_type": "code",
      "source": [
        "from sklearn.metrics import precision_score, recall_score, f1_score, roc_curve, auc, confusion_matrix\n",
        "def calculate_metrics_binary(y_true, y_pred):\n",
        "    # Calculate F1 score\n",
        "    f1 = f1_score(y_true, y_pred)\n",
        "\n",
        "    # Calculate precision\n",
        "    precision = precision_score(y_true, y_pred)\n",
        "\n",
        "    # Calculate sensitivity (recall)\n",
        "    sensitivity = recall_score(y_true, y_pred)\n",
        "\n",
        "    # Calculate specificity\n",
        "    tn, fp, fn, tp = confusion_matrix(y_true, y_pred).ravel()\n",
        "    specificity = tn / (tn + fp)\n",
        "\n",
        "    # Calculate ROC curve and AUC\n",
        "    fpr, tpr, thresholds = roc_curve(y_true, y_pred)\n",
        "    roc_auc = auc(fpr, tpr)\n",
        "\n",
        "    return f1, precision, sensitivity, specificity, roc_auc, fpr, tpr"
      ],
      "metadata": {
        "id": "2EjQ2MwnkJYf"
      },
      "execution_count": 94,
      "outputs": []
    },
    {
      "cell_type": "code",
      "source": [
        "from sklearn.metrics import precision_score, recall_score, f1_score\n",
        "\n",
        "def calculate_metrics(y_true, y_pred):\n",
        "    # Calculate F1 score\n",
        "    f1 = f1_score(y_true, y_pred, average='weighted')\n",
        "\n",
        "    # Calculate precision\n",
        "    precision = precision_score(y_true, y_pred, average='weighted')\n",
        "\n",
        "    # Calculate sensitivity (recall)\n",
        "    sensitivity = recall_score(y_true, y_pred, average='weighted')\n",
        "\n",
        "    # Calculate specificity\n",
        "    unique_labels = set(y_true)\n",
        "    specificity = {}\n",
        "    for label in unique_labels:\n",
        "        true_negatives = sum((y_true != label) & (y_pred != label))\n",
        "        false_positives = sum((y_true != label) & (y_pred == label))\n",
        "        specificity[label] = true_negatives / (true_negatives + false_positives)\n",
        "\n",
        "    return f1, precision, sensitivity, specificity"
      ],
      "metadata": {
        "id": "h_Mjs5u0MFq5"
      },
      "execution_count": 95,
      "outputs": []
    },
    {
      "cell_type": "code",
      "source": [
        "def calculate_accuracy(y_true, y_pred):\n",
        "    correct_predictions = 0\n",
        "    total_predictions = len(y_true)\n",
        "\n",
        "    for true_label, pred_label in zip(y_true, y_pred):\n",
        "        if true_label == pred_label:\n",
        "            correct_predictions += 1\n",
        "\n",
        "    accuracy = correct_predictions / total_predictions\n",
        "    return accuracy"
      ],
      "metadata": {
        "id": "dbS_udaUBw9I"
      },
      "execution_count": 96,
      "outputs": []
    },
    {
      "cell_type": "code",
      "source": [
        "# LOGISTIC REGRESSİON METRİCS\n",
        "\n",
        "f1, precision, sensitivity, specificity = calculate_metrics(MyY_test, y_predLogistic)\n",
        "print(\"F1 Score:\", f1)\n",
        "print(\"Precision:\", precision)\n",
        "print(\"Sensitivity (Recall):\", sensitivity)\n",
        "print(\"Specificity:\", specificity)\n",
        "#------------------------------------------------------------\n",
        "accuracyLG=calculate_accuracy(MyY_test, y_predLogistic)\n",
        "print(\"Accuracy\",accuracyLG)\n",
        "from sklearn.metrics import mean_squared_error, r2_score\n",
        "import matplotlib.pyplot as plt\n",
        "# Calculate metrics\n",
        "mse = mean_squared_error(MyY_test, y_predLogistic)\n",
        "r2 = r2_score(MyY_test, y_predLogistic)\n",
        "# Print the metrics\n",
        "print(\"Mean Squared Error (MSE):\", mse)\n",
        "print(\"Coefficient of Determination (R^2):\", r2)\n",
        "#   MAE\n",
        "from sklearn.metrics import mean_absolute_error\n",
        "mae = mean_absolute_error(MyY_test, y_predLogistic)\n",
        "print(\"Ortalama Mutlak Hata (MAE):\", mae)\n",
        "# RMSE\n",
        "rmse = np.sqrt(mse)\n",
        "print(\"Kök Ortalama Kare Hata (RMSE):\", rmse)"
      ],
      "metadata": {
        "id": "Sh_h1CsLkJbU",
        "colab": {
          "base_uri": "https://localhost:8080/"
        },
        "outputId": "05d01099-92d3-48b2-f920-ff51377ee788"
      },
      "execution_count": 97,
      "outputs": [
        {
          "output_type": "stream",
          "name": "stdout",
          "text": [
            "F1 Score: 0.3094496168560239\n",
            "Precision: 0.3267137901080258\n",
            "Sensitivity (Recall): 0.34701492537313433\n",
            "Specificity: {0: 0.6919431279620853, 1: 0.8994974874371859, 2: 0.6203208556149733, 3: 0.9082125603864735}\n",
            "Accuracy 0.34701492537313433\n",
            "Mean Squared Error (MSE): 1.921641791044776\n",
            "Coefficient of Determination (R^2): -0.702689365901801\n",
            "Ortalama Mutlak Hata (MAE): 1.0111940298507462\n",
            "Kök Ortalama Kare Hata (RMSE): 1.3862329497760382\n"
          ]
        }
      ]
    },
    {
      "cell_type": "markdown",
      "source": [
        "KNN **ALGORITHM**"
      ],
      "metadata": {
        "id": "bGjKNdU1n_DP"
      }
    },
    {
      "cell_type": "code",
      "source": [
        "#KNN ALGORİTMASI\n",
        "from sklearn.neighbors import KNeighborsClassifier\n",
        "knn=KNeighborsClassifier(n_neighbors=50,metric=\"minkowski\")\n",
        "knn.fit(MyX_train, MyY_train)\n",
        "y_predKNN=knn.predict(MyX_test)\n",
        "cm2=confusion_matrix(MyY_test,y_predKNN)\n",
        "print(\"KNN\")\n",
        "print(cm2)"
      ],
      "metadata": {
        "colab": {
          "base_uri": "https://localhost:8080/"
        },
        "id": "kM7hqfRBn28I",
        "outputId": "a7cfc215-580a-414b-db0f-8b6ff59e887c"
      },
      "execution_count": 98,
      "outputs": [
        {
          "output_type": "stream",
          "name": "stdout",
          "text": [
            "KNN\n",
            "[[16 11 16 14]\n",
            " [22 11 21 15]\n",
            " [15 12 38 16]\n",
            " [22 17  7 15]]\n"
          ]
        }
      ]
    },
    {
      "cell_type": "code",
      "source": [
        "# KNN ALGORİTHM METRİCS\n",
        "\n",
        "f1, precision, sensitivity, specificity= calculate_metrics(MyY_test, y_predKNN)\n",
        "print(\"F1 Score:\", f1)\n",
        "print(\"Precision:\", precision)\n",
        "print(\"Sensitivity (Recall):\", sensitivity)\n",
        "print(\"Specificity:\", specificity)\n",
        "#------------------------------------------------------------\n",
        "accuracyKNN=calculate_accuracy(MyY_test, y_predKNN)\n",
        "print(\"Accuracy\",accuracyKNN)\n",
        "from sklearn.metrics import mean_squared_error, r2_score\n",
        "import matplotlib.pyplot as plt\n",
        "# Calculate metrics\n",
        "mse = mean_squared_error(MyY_test, y_predKNN)\n",
        "r2 = r2_score(MyY_test, y_predKNN)\n",
        "# Print the metrics\n",
        "print(\"Mean Squared Error (MSE):\", mse)\n",
        "print(\"Coefficient of Determination (R^2):\", r2)\n",
        "#   MAE\n",
        "from sklearn.metrics import mean_absolute_error\n",
        "mae = mean_absolute_error(MyY_test, y_predKNN)\n",
        "print(\"Ortalama Mutlak Hata (MAE):\", mae)\n",
        "# RMSE\n",
        "rmse = np.sqrt(mse)\n",
        "print(\"Kök Ortalama Kare Hata (RMSE):\", rmse)"
      ],
      "metadata": {
        "colab": {
          "base_uri": "https://localhost:8080/"
        },
        "id": "O0GsvU1Nn2-m",
        "outputId": "e3f91536-7378-413a-f46c-47d93d72802d"
      },
      "execution_count": 99,
      "outputs": [
        {
          "output_type": "stream",
          "name": "stdout",
          "text": [
            "F1 Score: 0.2961157459924431\n",
            "Precision: 0.29786917278742586\n",
            "Sensitivity (Recall): 0.29850746268656714\n",
            "Specificity: {0: 0.7203791469194313, 1: 0.7989949748743719, 2: 0.7647058823529411, 3: 0.782608695652174}\n",
            "Accuracy 0.29850746268656714\n",
            "Mean Squared Error (MSE): 2.4813432835820897\n",
            "Coefficient of Determination (R^2): -1.1986183074265973\n",
            "Ortalama Mutlak Hata (MAE): 1.205223880597015\n",
            "Kök Ortalama Kare Hata (RMSE): 1.5752280100296876\n"
          ]
        }
      ]
    },
    {
      "cell_type": "markdown",
      "source": [
        "SVM(SUPPORT VECTOR MACHINE) DESTEK **VEKTORU**"
      ],
      "metadata": {
        "id": "s3TJRo6xo9zR"
      }
    },
    {
      "cell_type": "code",
      "source": [
        "from sklearn.svm import SVC\n",
        "svc=SVC(kernel=\"poly\")\n",
        "svc.fit(MyX_train, MyY_train)\n",
        "y_predsvm=svc.predict(MyX_test)\n",
        "cm3=confusion_matrix(MyY_test,y_predsvm)\n",
        "print(\"SVM\")\n",
        "print(cm3)"
      ],
      "metadata": {
        "colab": {
          "base_uri": "https://localhost:8080/"
        },
        "id": "9iSohj0epFXP",
        "outputId": "8f4ee94b-2683-4cb9-ce1d-cf5bb50a88b6"
      },
      "execution_count": 100,
      "outputs": [
        {
          "output_type": "stream",
          "name": "stdout",
          "text": [
            "SVM\n",
            "[[12 12 15 18]\n",
            " [22 18  7 22]\n",
            " [10 15 27 29]\n",
            " [18 13  7 23]]\n"
          ]
        }
      ]
    },
    {
      "cell_type": "code",
      "source": [
        "# SVM(SUPPORT VECTOR MACHINE)  METRİCS\n",
        "\n",
        "f1, precision, sensitivity, specificity = calculate_metrics(MyY_test, y_predsvm)\n",
        "print(\"F1 Score:\", f1)\n",
        "print(\"Precision:\", precision)\n",
        "print(\"Sensitivity (Recall):\", sensitivity)\n",
        "print(\"Specificity:\", specificity)\n",
        "#------------------------------------------------------------\n",
        "accuracySVM=calculate_accuracy(MyY_test, y_predsvm)\n",
        "print(\"Accuracy\",accuracySVM)\n",
        "from sklearn.metrics import mean_squared_error, r2_score\n",
        "import matplotlib.pyplot as plt\n",
        "# Calculate metrics\n",
        "mse = mean_squared_error(MyY_test, y_predsvm)\n",
        "r2 = r2_score(MyY_test, y_predsvm)\n",
        "# Print the metrics\n",
        "print(\"Mean Squared Error (MSE):\", mse)\n",
        "print(\"Coefficient of Determination (R^2):\", r2)\n",
        "#   MAE\n",
        "from sklearn.metrics import mean_absolute_error\n",
        "mae = mean_absolute_error(MyY_test, y_predsvm)\n",
        "print(\"Ortalama Mutlak Hata (MAE):\", mae)\n",
        "# RMSE\n",
        "rmse = np.sqrt(mse)\n",
        "print(\"Kök Ortalama Kare Hata (RMSE):\", rmse)"
      ],
      "metadata": {
        "colab": {
          "base_uri": "https://localhost:8080/"
        },
        "id": "o6vhfV50pFbb",
        "outputId": "f31481f4-8187-4a52-9a40-559c7b0bc229"
      },
      "execution_count": 101,
      "outputs": [
        {
          "output_type": "stream",
          "name": "stdout",
          "text": [
            "F1 Score: 0.30343929111102164\n",
            "Precision: 0.32369262162886503\n",
            "Sensitivity (Recall): 0.29850746268656714\n",
            "Specificity: {0: 0.7630331753554502, 1: 0.7989949748743719, 2: 0.8449197860962567, 3: 0.6666666666666666}\n",
            "Accuracy 0.29850746268656714\n",
            "Mean Squared Error (MSE): 2.4477611940298507\n",
            "Coefficient of Determination (R^2): -1.1688625709351097\n",
            "Ortalama Mutlak Hata (MAE): 1.1940298507462686\n",
            "Kök Ortalama Kare Hata (RMSE): 1.5645322604631233\n"
          ]
        }
      ]
    },
    {
      "cell_type": "markdown",
      "source": [
        "NAIVE **BAYES**"
      ],
      "metadata": {
        "id": "G90h-jnwqFzV"
      }
    },
    {
      "cell_type": "code",
      "source": [
        "from sklearn.naive_bayes import GaussianNB\n",
        "nb=GaussianNB()\n",
        "nb.fit(MyX_train, MyY_train)\n",
        "y_prednaiveBayes=nb.predict(MyX_test)\n",
        "cm4=confusion_matrix(MyY_test,y_prednaiveBayes)\n",
        "print(\"Naive Bayes\")\n",
        "print(cm4)"
      ],
      "metadata": {
        "colab": {
          "base_uri": "https://localhost:8080/"
        },
        "id": "YcLltPsHqKqp",
        "outputId": "5e1638cc-2010-42db-f40b-af679bab9766"
      },
      "execution_count": 102,
      "outputs": [
        {
          "output_type": "stream",
          "name": "stdout",
          "text": [
            "Naive Bayes\n",
            "[[10 23 17  7]\n",
            " [17 32 12  8]\n",
            " [ 9 21 37 14]\n",
            " [10 28 11 12]]\n"
          ]
        }
      ]
    },
    {
      "cell_type": "code",
      "source": [
        "# NAIVE BAYES  METRİCS\n",
        "\n",
        "f1, precision, sensitivity, specificity= calculate_metrics(MyY_test, y_prednaiveBayes)\n",
        "print(\"F1 Score:\", f1)\n",
        "print(\"Precision:\", precision)\n",
        "print(\"Sensitivity (Recall):\", sensitivity)\n",
        "print(\"Specificity:\", specificity)\n",
        "#------------------------------------------------------------\n",
        "accuracyNaiveBayes=calculate_accuracy(MyY_test, y_prednaiveBayes)\n",
        "print(\"Accuracy\",accuracyNaiveBayes)\n",
        "from sklearn.metrics import mean_squared_error, r2_score\n",
        "import matplotlib.pyplot as plt\n",
        "# Calculate metrics\n",
        "mse = mean_squared_error(MyY_test, y_prednaiveBayes)\n",
        "r2 = r2_score(MyY_test, y_prednaiveBayes)\n",
        "# Print the metrics\n",
        "print(\"Mean Squared Error (MSE):\", mse)\n",
        "print(\"Coefficient of Determination (R^2):\", r2)\n",
        "#   MAE\n",
        "from sklearn.metrics import mean_absolute_error\n",
        "mae = mean_absolute_error(MyY_test, y_prednaiveBayes)\n",
        "print(\"Ortalama Mutlak Hata (MAE):\", mae)\n",
        "# RMSE\n",
        "rmse = np.sqrt(mse)\n",
        "print(\"Kök Ortalama Kare Hata (RMSE):\", rmse)"
      ],
      "metadata": {
        "colab": {
          "base_uri": "https://localhost:8080/"
        },
        "id": "ovn8dpvZqYSr",
        "outputId": "e132ae81-8da0-40e3-a387-26373f07b498"
      },
      "execution_count": 103,
      "outputs": [
        {
          "output_type": "stream",
          "name": "stdout",
          "text": [
            "F1 Score: 0.3316553088170607\n",
            "Precision: 0.3373052613330545\n",
            "Sensitivity (Recall): 0.33955223880597013\n",
            "Specificity: {0: 0.8293838862559242, 1: 0.6381909547738693, 2: 0.786096256684492, 3: 0.8599033816425121}\n",
            "Accuracy 0.33955223880597013\n",
            "Mean Squared Error (MSE): 1.8619402985074627\n",
            "Coefficient of Determination (R^2): -0.6497902788058227\n",
            "Ortalama Mutlak Hata (MAE): 1.0186567164179106\n",
            "Kök Ortalama Kare Hata (RMSE): 1.3645293322268535\n"
          ]
        }
      ]
    },
    {
      "cell_type": "markdown",
      "source": [
        "DECİSİON **TREE**"
      ],
      "metadata": {
        "id": "pWekA24Kqr4X"
      }
    },
    {
      "cell_type": "code",
      "source": [
        "from sklearn.tree import DecisionTreeClassifier\n",
        "dtc=DecisionTreeClassifier(criterion=\"entropy\")\n",
        "dtc.fit(MyX_train, MyY_train)\n",
        "y_predDT=dtc.predict(MyX_test)\n",
        "cm5=confusion_matrix(MyY_test,y_predDT)\n",
        "print(\"Decision Tree\")\n",
        "print(cm5)"
      ],
      "metadata": {
        "colab": {
          "base_uri": "https://localhost:8080/"
        },
        "id": "Gl3e9G9tqwSS",
        "outputId": "54e528ad-2301-434c-e10a-235f9018640b"
      },
      "execution_count": 104,
      "outputs": [
        {
          "output_type": "stream",
          "name": "stdout",
          "text": [
            "Decision Tree\n",
            "[[18 11 11 17]\n",
            " [14 25 14 16]\n",
            " [15 23 25 18]\n",
            " [ 8 12 16 25]]\n"
          ]
        }
      ]
    },
    {
      "cell_type": "code",
      "source": [
        "# DECİSİON TREE  METRİCS\n",
        "\n",
        "f1, precision, sensitivity, specificity = calculate_metrics(MyY_test, y_predDT)\n",
        "print(\"F1 Score:\", f1)\n",
        "print(\"Precision:\", precision)\n",
        "print(\"Sensitivity (Recall):\", sensitivity)\n",
        "print(\"Specificity:\", specificity)\n",
        "#------------------------------------------------------------\n",
        "accuracyDT=calculate_accuracy(MyY_test, y_predDT)\n",
        "print(\"Accuracy\",accuracyDT)\n",
        "from sklearn.metrics import mean_squared_error, r2_score\n",
        "import matplotlib.pyplot as plt\n",
        "# Calculate metrics\n",
        "mse = mean_squared_error(MyY_test, y_predDT)\n",
        "r2 = r2_score(MyY_test, y_predDT)\n",
        "# Print the metrics\n",
        "print(\"Mean Squared Error (MSE):\", mse)\n",
        "print(\"Coefficient of Determination (R^2):\", r2)\n",
        "#   MAE\n",
        "from sklearn.metrics import mean_absolute_error\n",
        "mae = mean_absolute_error(MyY_test, y_predDT)\n",
        "print(\"Ortalama Mutlak Hata (MAE):\", mae)\n",
        "# RMSE\n",
        "rmse = np.sqrt(mse)\n",
        "print(\"Kök Ortalama Kare Hata (RMSE):\", rmse)"
      ],
      "metadata": {
        "colab": {
          "base_uri": "https://localhost:8080/"
        },
        "id": "3ysZ7cCwq6Na",
        "outputId": "49571709-ac53-4f8d-ab30-0fda52d66fa5"
      },
      "execution_count": 105,
      "outputs": [
        {
          "output_type": "stream",
          "name": "stdout",
          "text": [
            "F1 Score: 0.34618686509356983\n",
            "Precision: 0.3496191334251312\n",
            "Sensitivity (Recall): 0.34701492537313433\n",
            "Specificity: {0: 0.8246445497630331, 1: 0.7688442211055276, 2: 0.7807486631016043, 3: 0.7536231884057971}\n",
            "Accuracy 0.34701492537313433\n",
            "Mean Squared Error (MSE): 2.003731343283582\n",
            "Coefficient of Determination (R^2): -0.7754256106587711\n",
            "Ortalama Mutlak Hata (MAE): 1.041044776119403\n",
            "Kök Ortalama Kare Hata (RMSE): 1.4155321767037237\n"
          ]
        }
      ]
    },
    {
      "cell_type": "markdown",
      "source": [
        "RANDOM **FOREST**(Rassal Orman)"
      ],
      "metadata": {
        "id": "xzKGuNwBrEbQ"
      }
    },
    {
      "cell_type": "code",
      "source": [
        "from sklearn.ensemble import RandomForestClassifier\n",
        "rfc=RandomForestClassifier(n_estimators=50,criterion=\"gini\")\n",
        "rfc.fit(MyX_train, MyY_train)\n",
        "y_predRF=rfc.predict(MyX_test)\n",
        "cm6=confusion_matrix(MyY_test,y_predRF)\n",
        "print(\"Random Forest\")\n",
        "print(cm6)"
      ],
      "metadata": {
        "colab": {
          "base_uri": "https://localhost:8080/"
        },
        "id": "pKJom5-1rIXM",
        "outputId": "d9b544a9-7702-4427-c7da-786c021e3e1e"
      },
      "execution_count": 117,
      "outputs": [
        {
          "output_type": "stream",
          "name": "stdout",
          "text": [
            "Random Forest\n",
            "[[20 13 13 11]\n",
            " [25 21 13 10]\n",
            " [13 20 37 11]\n",
            " [ 8 20 16 17]]\n"
          ]
        }
      ]
    },
    {
      "cell_type": "code",
      "source": [
        "# RANDOM FOREST(Rassal Orman)  METRİCS\n",
        "\n",
        "f1, precision, sensitivity, specificity= calculate_metrics(MyY_test, y_predRF)\n",
        "print(\"F1 Score:\", f1)\n",
        "print(\"Precision:\", precision)\n",
        "print(\"Sensitivity (Recall):\", sensitivity)\n",
        "print(\"Specificity:\", specificity)\n",
        "#------------------------------------------------------------\n",
        "accuracyRF=calculate_accuracy(MyY_test, y_predRF)\n",
        "print(\"Accuracy\",accuracyRF)\n",
        "from sklearn.metrics import mean_squared_error, r2_score\n",
        "import matplotlib.pyplot as plt\n",
        "# Calculate metrics\n",
        "mse = mean_squared_error(MyY_test, y_predRF)\n",
        "r2 = r2_score(MyY_test, y_predRF)\n",
        "# Print the metrics\n",
        "print(\"Mean Squared Error (MSE):\", mse)\n",
        "print(\"Coefficient of Determination (R^2):\", r2)\n",
        "#   MAE\n",
        "from sklearn.metrics import mean_absolute_error\n",
        "mae = mean_absolute_error(MyY_test, y_predRF)\n",
        "print(\"Ortalama Mutlak Hata (MAE):\", mae)\n",
        "# RMSE\n",
        "rmse = np.sqrt(mse)\n",
        "print(\"Kök Ortalama Kare Hata (RMSE):\", rmse)"
      ],
      "metadata": {
        "colab": {
          "base_uri": "https://localhost:8080/"
        },
        "id": "bN6R8FzNrY_C",
        "outputId": "a5054a5b-16e6-4cd7-a750-4f376e268676"
      },
      "execution_count": 118,
      "outputs": [
        {
          "output_type": "stream",
          "name": "stdout",
          "text": [
            "F1 Score: 0.3549230040527365\n",
            "Precision: 0.3580365019428742\n",
            "Sensitivity (Recall): 0.35447761194029853\n",
            "Specificity: {0: 0.7819905213270142, 1: 0.7336683417085427, 2: 0.7754010695187166, 3: 0.8454106280193237}\n",
            "Accuracy 0.35447761194029853\n",
            "Mean Squared Error (MSE): 1.8395522388059702\n",
            "Coefficient of Determination (R^2): -0.6299531211448308\n",
            "Ortalama Mutlak Hata (MAE): 0.996268656716418\n",
            "Kök Ortalama Kare Hata (RMSE): 1.356300939617005\n"
          ]
        }
      ]
    },
    {
      "cell_type": "code",
      "source": [
        "from tabulate import tabulate\n",
        "\n",
        "# Initialize an empty list to store the results\n",
        "results = []\n",
        "\n",
        "# Logistic Regression\n",
        "logistic_metrics = list(calculate_metrics(MyY_test, y_predLogistic))\n",
        "mse = mean_squared_error(MyY_test, y_predLogistic)\n",
        "mae = mean_absolute_error(MyY_test, y_predLogistic)\n",
        "rmse = np.sqrt(mse)\n",
        "logistic_metrics.extend([mse, mae, rmse])\n",
        "x=list()\n",
        "results.append([] + x)\n",
        "results.append([\"Logistic Regression\"] + logistic_metrics)\n",
        "\n",
        "# KNN Algorithm\n",
        "knn_metrics = list(calculate_metrics(MyY_test, y_predKNN))\n",
        "mse = mean_squared_error(MyY_test, y_predKNN)\n",
        "mae = mean_absolute_error(MyY_test, y_predKNN)\n",
        "rmse = np.sqrt(mse)\n",
        "knn_metrics.extend([mse, mae, rmse])\n",
        "results.append([] + x)\n",
        "results.append([\"KNN Algorithm\"] + knn_metrics)\n",
        "\n",
        "# SVM (Support Vector Machine)\n",
        "svm_metrics = list(calculate_metrics(MyY_test, y_predsvm))\n",
        "mse = mean_squared_error(MyY_test, y_predsvm)\n",
        "mae = mean_absolute_error(MyY_test, y_predsvm)\n",
        "rmse = np.sqrt(mse)\n",
        "svm_metrics.extend([mse, mae, rmse])\n",
        "results.append([] + x)\n",
        "results.append([\"SVM\"] + svm_metrics)\n",
        "\n",
        "# Naive Bayes\n",
        "naivebayes_metrics = list(calculate_metrics(MyY_test, y_prednaiveBayes))\n",
        "mse = mean_squared_error(MyY_test, y_prednaiveBayes)\n",
        "mae = mean_absolute_error(MyY_test, y_prednaiveBayes)\n",
        "rmse = np.sqrt(mse)\n",
        "naivebayes_metrics.extend([mse, mae, rmse])\n",
        "results.append([] + x)\n",
        "results.append([\"Naive Bayes\"] + naivebayes_metrics)\n",
        "\n",
        "# Decision Tree\n",
        "dt_metrics = list(calculate_metrics(MyY_test, y_predDT))\n",
        "mse = mean_squared_error(MyY_test, y_predDT)\n",
        "mae = mean_absolute_error(MyY_test, y_predDT)\n",
        "rmse = np.sqrt(mse)\n",
        "dt_metrics.extend([mse, mae, rmse])\n",
        "results.append([] + x)\n",
        "results.append([\"Decision Tree\"] + dt_metrics)\n",
        "\n",
        "# Random Forest\n",
        "rf_metrics = list(calculate_metrics(MyY_test, y_predRF))\n",
        "mse = mean_squared_error(MyY_test, y_predRF)\n",
        "mae = mean_absolute_error(MyY_test, y_predRF)\n",
        "rmse = np.sqrt(mse)\n",
        "rf_metrics.extend([mse, mae, rmse])\n",
        "results.append([] + x)\n",
        "results.append([\"Random Forest\"] + rf_metrics)\n",
        "# Print the results as a table with right alignment\n",
        "headers = [\"Model\", \"F1 Score\", \"Precision\", \"Sensitivity (Recall)\", \"Specificity\", \"ROC AUC\",\n",
        "           \"Mean Squared Error (MSE)\", \"MAE\", \"RMSE\"]\n",
        "table = tabulate(results, headers=headers, tablefmt=\"grid\", numalign=\"right\")\n",
        "table_lines = table.split(\"\\n\")\n",
        "formatted_table = \"\\n\".join([line.rstrip() for line in table_lines[2:]])\n",
        "print(table_lines[0] + \"\\n\" + table_lines[1] + \"\\n\" + formatted_table)"
      ],
      "metadata": {
        "colab": {
          "base_uri": "https://localhost:8080/"
        },
        "id": "NGufUY8txfXV",
        "outputId": "8a6f3f43-42ee-4903-9ec2-f3a3490b2878"
      },
      "execution_count": 109,
      "outputs": [
        {
          "output_type": "stream",
          "name": "stdout",
          "text": [
            "+---------------------+------------+-------------+------------------------+----------------------------------------------------------------------------------------------+-----------+----------------------------+---------+\n",
            "| Model               |   F1 Score |   Precision |   Sensitivity (Recall) | Specificity                                                                                  |   ROC AUC |   Mean Squared Error (MSE) |     MAE |\n",
            "+=====================+============+=============+========================+==============================================================================================+===========+============================+=========+\n",
            "|                     |            |             |                        |                                                                                              |           |                            |         |\n",
            "+---------------------+------------+-------------+------------------------+----------------------------------------------------------------------------------------------+-----------+----------------------------+---------+\n",
            "| Logistic Regression |    0.30945 |    0.326714 |               0.347015 | {0: 0.6919431279620853, 1: 0.8994974874371859, 2: 0.6203208556149733, 3: 0.9082125603864735} |   1.92164 |                    1.01119 | 1.38623 |\n",
            "+---------------------+------------+-------------+------------------------+----------------------------------------------------------------------------------------------+-----------+----------------------------+---------+\n",
            "|                     |            |             |                        |                                                                                              |           |                            |         |\n",
            "+---------------------+------------+-------------+------------------------+----------------------------------------------------------------------------------------------+-----------+----------------------------+---------+\n",
            "| KNN Algorithm       |   0.296116 |    0.297869 |               0.298507 | {0: 0.7203791469194313, 1: 0.7989949748743719, 2: 0.7647058823529411, 3: 0.782608695652174}  |   2.48134 |                    1.20522 | 1.57523 |\n",
            "+---------------------+------------+-------------+------------------------+----------------------------------------------------------------------------------------------+-----------+----------------------------+---------+\n",
            "|                     |            |             |                        |                                                                                              |           |                            |         |\n",
            "+---------------------+------------+-------------+------------------------+----------------------------------------------------------------------------------------------+-----------+----------------------------+---------+\n",
            "| SVM                 |   0.303439 |    0.323693 |               0.298507 | {0: 0.7630331753554502, 1: 0.7989949748743719, 2: 0.8449197860962567, 3: 0.6666666666666666} |   2.44776 |                    1.19403 | 1.56453 |\n",
            "+---------------------+------------+-------------+------------------------+----------------------------------------------------------------------------------------------+-----------+----------------------------+---------+\n",
            "|                     |            |             |                        |                                                                                              |           |                            |         |\n",
            "+---------------------+------------+-------------+------------------------+----------------------------------------------------------------------------------------------+-----------+----------------------------+---------+\n",
            "| Naive Bayes         |   0.331655 |    0.337305 |               0.339552 | {0: 0.8293838862559242, 1: 0.6381909547738693, 2: 0.786096256684492, 3: 0.8599033816425121}  |   1.86194 |                    1.01866 | 1.36453 |\n",
            "+---------------------+------------+-------------+------------------------+----------------------------------------------------------------------------------------------+-----------+----------------------------+---------+\n",
            "|                     |            |             |                        |                                                                                              |           |                            |         |\n",
            "+---------------------+------------+-------------+------------------------+----------------------------------------------------------------------------------------------+-----------+----------------------------+---------+\n",
            "| Decision Tree       |   0.346187 |    0.349619 |               0.347015 | {0: 0.8246445497630331, 1: 0.7688442211055276, 2: 0.7807486631016043, 3: 0.7536231884057971} |   2.00373 |                    1.04104 | 1.41553 |\n",
            "+---------------------+------------+-------------+------------------------+----------------------------------------------------------------------------------------------+-----------+----------------------------+---------+\n",
            "|                     |            |             |                        |                                                                                              |           |                            |         |\n",
            "+---------------------+------------+-------------+------------------------+----------------------------------------------------------------------------------------------+-----------+----------------------------+---------+\n",
            "| Random Forest       |    0.34257 |    0.343559 |               0.343284 | {0: 0.7914691943127962, 1: 0.7286432160804021, 2: 0.7700534759358288, 3: 0.8309178743961353} |   1.86567 |                    1.00746 |  1.3659 |\n",
            "+---------------------+------------+-------------+------------------------+----------------------------------------------------------------------------------------------+-----------+----------------------------+---------+\n"
          ]
        }
      ]
    },
    {
      "cell_type": "code",
      "source": [
        "# F1 SCORE PLOT\n",
        "import matplotlib.pyplot as plt\n",
        "\n",
        "models = ['Logistic Regression', 'KNN Algorithm', 'SVM', 'Naive Bayes', 'Decision Tree', 'Random Forest']\n",
        "f1_scores = [logistic_metrics[0], knn_metrics[0], svm_metrics[0], naivebayes_metrics[0], dt_metrics[0], rf_metrics[0]]\n",
        "\n",
        "plt.figure(figsize=(10, 6))\n",
        "plt.scatter(models, f1_scores, color='blue', marker='o')\n",
        "\n",
        "plt.xlabel('Model_F1 SCORE')\n",
        "plt.ylabel('F1 Score')\n",
        "plt.title('Model F1 Scores')\n",
        "plt.xticks(rotation=45)\n",
        "\n",
        "for i in range(len(models)):\n",
        "    plt.text(models[i], f1_scores[i], f\"{f1_scores[i]:.3f}\", ha='center', va='bottom')\n",
        "plt.grid(True)\n",
        "plt.show()"
      ],
      "metadata": {
        "colab": {
          "base_uri": "https://localhost:8080/",
          "height": 654
        },
        "id": "mSDRLluH5o3Q",
        "outputId": "3639a203-cda1-4b8b-e2ae-e2e0f1a19804"
      },
      "execution_count": 110,
      "outputs": [
        {
          "output_type": "display_data",
          "data": {
            "text/plain": [
              "<Figure size 1000x600 with 1 Axes>"
            ],
            "image/png": "[encoded data removed]"
          },
          "metadata": {}
        }
      ]
    },
    {
      "cell_type": "code",
      "source": [
        "# Precision PLOT\n",
        "import matplotlib.pyplot as plt\n",
        "\n",
        "models = ['Logistic Regression', 'KNN Algorithm', 'SVM', 'Naive Bayes', 'Decision Tree', 'Random Forest']\n",
        "Precision = [logistic_metrics[1], knn_metrics[1], svm_metrics[1], naivebayes_metrics[1], dt_metrics[1], rf_metrics[1]]\n",
        "\n",
        "plt.figure(figsize=(10, 6))\n",
        "plt.scatter(models, Precision, color='blue', marker='o')\n",
        "\n",
        "plt.xlabel('Model_Precision')\n",
        "plt.ylabel('Precision')\n",
        "plt.title('Model Precision')\n",
        "plt.xticks(rotation=45)\n",
        "\n",
        "for i in range(len(models)):\n",
        "    plt.text(models[i], Precision[i], f\"{Precision[i]:.3f}\", ha='center', va='bottom')\n",
        "plt.grid(True)\n",
        "plt.show()"
      ],
      "metadata": {
        "colab": {
          "base_uri": "https://localhost:8080/",
          "height": 654
        },
        "id": "9raPHasx-hTa",
        "outputId": "885522b9-36db-4556-830e-3b1db11aadb6"
      },
      "execution_count": 111,
      "outputs": [
        {
          "output_type": "display_data",
          "data": {
            "text/plain": [
              "<Figure size 1000x600 with 1 Axes>"
            ],
            "image/png": "[encoded data removed]"
          },
          "metadata": {}
        }
      ]
    },
    {
      "cell_type": "code",
      "source": [
        "#  Sensitivity (Recall) PLOT\n",
        "import matplotlib.pyplot as plt\n",
        "\n",
        "models = ['Logistic Regression', 'KNN Algorithm', 'SVM', 'Naive Bayes', 'Decision Tree', 'Random Forest']\n",
        "Sensitivity = [logistic_metrics[2], knn_metrics[2], svm_metrics[2], naivebayes_metrics[2], dt_metrics[2], rf_metrics[2]]\n",
        "\n",
        "plt.figure(figsize=(10, 6))\n",
        "plt.scatter(models, Sensitivity, color='blue', marker='o')\n",
        "\n",
        "plt.xlabel('Model_ Sensitivity (Recall)')\n",
        "plt.ylabel(' Sensitivity (Recall)')\n",
        "plt.title('Model Sensitivity')\n",
        "plt.xticks(rotation=45)\n",
        "\n",
        "for i in range(len(models)):\n",
        "    plt.text(models[i], Sensitivity[i], f\"{Sensitivity[i]:.3f}\", ha='center', va='bottom')\n",
        "plt.grid(True)\n",
        "plt.show()"
      ],
      "metadata": {
        "colab": {
          "base_uri": "https://localhost:8080/",
          "height": 654
        },
        "id": "5CtzppED-hXH",
        "outputId": "e53f386e-f1b6-4382-a989-2d224b87ace9"
      },
      "execution_count": 112,
      "outputs": [
        {
          "output_type": "display_data",
          "data": {
            "text/plain": [
              "<Figure size 1000x600 with 1 Axes>"
            ],
            "image/png": "[encoded data removed]"
          },
          "metadata": {}
        }
      ]
    },
    {
      "cell_type": "code",
      "source": [
        "#  ACCURACY PLOT\n",
        "import matplotlib.pyplot as plt\n",
        "#accuracy_variables = [accuracyLG, accuracyKNN, accuracySVM, accuracyNaiveBayes, accuracyDT, accuracyRF]\n",
        "models = ['Logistic Regression', 'KNN Algorithm', 'SVM', 'Naive Bayes', 'Decision Tree', 'Random Forest']\n",
        "Accuracy_variable = [accuracyLG, accuracyKNN, accuracySVM, accuracyNaiveBayes, accuracyDT, accuracyRF]\n",
        "\n",
        "plt.figure(figsize=(10, 6))\n",
        "plt.scatter(models, Accuracy_variable, color='blue', marker='o')\n",
        "\n",
        "plt.xlabel('Model_ Accuracy')\n",
        "plt.ylabel(' Accuracy ')\n",
        "plt.title('Model Accuracy')\n",
        "plt.xticks(rotation=45)\n",
        "\n",
        "for i in range(len(models)):\n",
        "    plt.text(models[i], Accuracy_variable[i], f\"{Accuracy_variable[i]:.3f}\", ha='center', va='bottom')\n",
        "plt.grid(True)\n",
        "plt.show()"
      ],
      "metadata": {
        "id": "Ki3mJ03KEtFs",
        "colab": {
          "base_uri": "https://localhost:8080/",
          "height": 654
        },
        "outputId": "a108bf11-6b6d-4ec6-e698-d534c2e5ab29"
      },
      "execution_count": 113,
      "outputs": [
        {
          "output_type": "display_data",
          "data": {
            "text/plain": [
              "<Figure size 1000x600 with 1 Axes>"
            ],
            "image/png": "[encoded data removed]"
          },
          "metadata": {}
        }
      ]
    }
  ]
}